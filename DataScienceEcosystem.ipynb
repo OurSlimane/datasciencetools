{
 "cells": [
  {
   "cell_type": "markdown",
   "id": "ff9494c9-b536-49ac-bec6-ce5d390d9862",
   "metadata": {},
   "source": [
    "# Data Science Tools and Ecosystem"
   ]
  },
  {
   "cell_type": "markdown",
   "id": "646a6ed9-cb9b-4864-9b67-e3230526c4a4",
   "metadata": {},
   "source": [
    "## In this notebook, Data Science Tools and Ecosystem are summarized."
   ]
  },
  {
   "cell_type": "markdown",
   "id": "35b04918-111c-4367-96f4-01bd3ce9bfd1",
   "metadata": {},
   "source": [
    "### Some of the popular languages that Data Scientists use are:\n",
    "1. Python\n",
    "2. R\n",
    "3. SQL"
   ]
  },
  {
   "cell_type": "markdown",
   "id": "00972c7a-420a-4b6a-8821-adc6d37e07b6",
   "metadata": {},
   "source": [
    "### Some of the commonly used libraries used by Data Scientists include:\n",
    "1. NumPy\n",
    "2. Pandas\n",
    "3. Matplotlib\n",
    "4. Scikit-learn\n",
    "5. TensorFlow"
   ]
  },
  {
   "cell_type": "markdown",
   "id": "a219789c-40ad-42f6-aa49-eaa5b30027da",
   "metadata": {},
   "source": [
    "| Data Science Tools         |\n",
    "|----------------------------|\n",
    "| Jupyter Notebook           |\n",
    "| RStudio                    |\n",
    "| VS Code                    |"
   ]
  },
  {
   "cell_type": "markdown",
   "id": "1c5a13ba-36a3-4d07-8ca7-075c8c5812b0",
   "metadata": {},
   "source": [
    "### Below are a few examples of evaluating arithmetic expressions in Python.\n",
    "\n",
    "| Data Science Tools         |\n",
    "|----------------------------|\n",
    "| Jupyter Notebook           |\n",
    "| RStudio                    |\n",
    "| VS Code                    |"
   ]
  },
  {
   "cell_type": "code",
   "execution_count": 7,
   "id": "1615abfa-29ad-4e9f-bbc1-ea6429a5352d",
   "metadata": {},
   "outputs": [
    {
     "data": {
      "text/plain": [
       "17"
      ]
     },
     "execution_count": 7,
     "metadata": {},
     "output_type": "execute_result"
    }
   ],
   "source": [
    "# This is a simple arithmetic expression to multiply then add integers\n",
    "(3 * 4) + 5"
   ]
  },
  {
   "cell_type": "code",
   "execution_count": 9,
   "id": "b20866a0-7e60-4e35-ac80-e2ec5342e898",
   "metadata": {},
   "outputs": [
    {
     "data": {
      "text/plain": [
       "3.3333333333333335"
      ]
     },
     "execution_count": 9,
     "metadata": {},
     "output_type": "execute_result"
    }
   ],
   "source": [
    "# This will convert 200 minutes to hours by dividing by 60\n",
    "200 / 60"
   ]
  },
  {
   "cell_type": "markdown",
   "id": "da585ada-6746-4f07-80b5-2d91ed17de96",
   "metadata": {},
   "source": [
    "**Objectives:**\n",
    "\n",
    "- List popular languages for Data Science  \n",
    "- Identify commonly used data science libraries  \n",
    "- Create tables using Markdown  \n",
    "- Evaluate arithmetic expressions in Python  \n",
    "- Convert minutes into hours using simple Python operations  "
   ]
  },
  {
   "cell_type": "markdown",
   "id": "19c5e32f-a12e-42b8-9408-68b810836553",
   "metadata": {},
   "source": [
    "## Author\n",
    "\n",
    "Slimane Ourhil"
   ]
  },
  {
   "cell_type": "code",
   "execution_count": null,
   "id": "1aef4248-51fd-4beb-914d-a2826793561e",
   "metadata": {},
   "outputs": [],
   "source": []
  }
 ],
 "metadata": {
  "kernelspec": {
   "display_name": "Python [conda env:base] *",
   "language": "python",
   "name": "conda-base-py"
  },
  "language_info": {
   "codemirror_mode": {
    "name": "ipython",
    "version": 3
   },
   "file_extension": ".py",
   "mimetype": "text/x-python",
   "name": "python",
   "nbconvert_exporter": "python",
   "pygments_lexer": "ipython3",
   "version": "3.12.7"
  }
 },
 "nbformat": 4,
 "nbformat_minor": 5
}
